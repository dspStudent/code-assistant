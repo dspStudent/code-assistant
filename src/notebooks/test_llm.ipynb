{
 "cells": [
  {
   "cell_type": "markdown",
   "metadata": {},
   "source": [
    "# imports"
   ]
  },
  {
   "cell_type": "code",
   "execution_count": 1,
   "metadata": {},
   "outputs": [],
   "source": [
    "import langchain\n",
    "import huggingface_hub\n",
    "import os\n",
    "from langchain_huggingface import HuggingFaceEndpoint\n",
    "from langchain_core.prompts import ChatPromptTemplate\n",
    "from langchain.chains import LLMChain\n",
    "from langchain_groq import ChatGroq\n",
    "import pypdf\n",
    "from langchain_community.document_loaders import PyPDFLoader\n",
    "from langchain_text_splitters import RecursiveCharacterTextSplitter\n",
    "from langchain.schema.document import Document"
   ]
  },
  {
   "cell_type": "code",
   "execution_count": 3,
   "metadata": {},
   "outputs": [],
   "source": [
    "a=1 \n",
    "n=[a]"
   ]
  },
  {
   "cell_type": "code",
   "execution_count": 4,
   "metadata": {},
   "outputs": [
    {
     "data": {
      "text/plain": [
       "[1]"
      ]
     },
     "execution_count": 4,
     "metadata": {},
     "output_type": "execute_result"
    }
   ],
   "source": [
    "n"
   ]
  },
  {
   "cell_type": "code",
   "execution_count": 2,
   "metadata": {},
   "outputs": [
    {
     "ename": "KeyError",
     "evalue": "'GROQ_API_KEY'",
     "output_type": "error",
     "traceback": [
      "\u001b[1;31m---------------------------------------------------------------------------\u001b[0m",
      "\u001b[1;31mKeyError\u001b[0m                                  Traceback (most recent call last)",
      "Cell \u001b[1;32mIn[2], line 1\u001b[0m\n\u001b[1;32m----> 1\u001b[0m \u001b[38;5;28;01mdel\u001b[39;00m \u001b[43mos\u001b[49m\u001b[38;5;241;43m.\u001b[39;49m\u001b[43menviron\u001b[49m\u001b[43m[\u001b[49m\u001b[38;5;124;43m'\u001b[39;49m\u001b[38;5;124;43mGROQ_API_KEY\u001b[39;49m\u001b[38;5;124;43m'\u001b[39;49m\u001b[43m]\u001b[49m\n",
      "File \u001b[1;32m<frozen os>:730\u001b[0m, in \u001b[0;36m__delitem__\u001b[1;34m(self, key)\u001b[0m\n",
      "\u001b[1;31mKeyError\u001b[0m: 'GROQ_API_KEY'"
     ]
    }
   ],
   "source": [
    "del os.environ['GROQ_API_KEY']"
   ]
  },
  {
   "cell_type": "code",
   "execution_count": null,
   "metadata": {},
   "outputs": [],
   "source": [
    "key=os.environ.get(\"GROQ_API_KEY\")"
   ]
  },
  {
   "cell_type": "code",
   "execution_count": 2,
   "metadata": {},
   "outputs": [],
   "source": [
    "key=\"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\""
   ]
  },
  {
   "cell_type": "code",
   "execution_count": null,
   "metadata": {},
   "outputs": [],
   "source": []
  },
  {
   "cell_type": "code",
   "execution_count": null,
   "metadata": {},
   "outputs": [],
   "source": [
    "os.environ[\"GROQ_API_KEY\"]=\"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\""
   ]
  },
  {
   "cell_type": "code",
   "execution_count": null,
   "metadata": {},
   "outputs": [
    {
     "ename": "ValidationError",
     "evalue": "1 validation error for ChatGroq\nmodel\n  Field required [type=missing, input_value={'api_key': 'gsk_3CHlOuHC...WV', 'model_kwargs': {}}, input_type=dict]\n    For further information visit https://errors.pydantic.dev/2.10/v/missing",
     "output_type": "error",
     "traceback": [
      "\u001b[31m---------------------------------------------------------------------------\u001b[39m",
      "\u001b[31mValidationError\u001b[39m                           Traceback (most recent call last)",
      "\u001b[36mCell\u001b[39m\u001b[36m \u001b[39m\u001b[32mIn[3]\u001b[39m\u001b[32m, line 1\u001b[39m\n\u001b[32m----> \u001b[39m\u001b[32m1\u001b[39m llm = \u001b[43mChatGroq\u001b[49m\u001b[43m(\u001b[49m\n\u001b[32m      2\u001b[39m \u001b[43m    \u001b[49m\u001b[43mapi_key\u001b[49m\u001b[43m=\u001b[49m\u001b[43mkey\u001b[49m\n\u001b[32m      3\u001b[39m \u001b[43m)\u001b[49m\n",
      "\u001b[36mFile \u001b[39m\u001b[32md:\\D\\Code-asistent\\.venv\\Lib\\site-packages\\langchain_core\\load\\serializable.py:125\u001b[39m, in \u001b[36mSerializable.__init__\u001b[39m\u001b[34m(self, *args, **kwargs)\u001b[39m\n\u001b[32m    123\u001b[39m \u001b[38;5;28;01mdef\u001b[39;00m\u001b[38;5;250m \u001b[39m\u001b[34m__init__\u001b[39m(\u001b[38;5;28mself\u001b[39m, *args: Any, **kwargs: Any) -> \u001b[38;5;28;01mNone\u001b[39;00m:\n\u001b[32m    124\u001b[39m \u001b[38;5;250m    \u001b[39m\u001b[33;03m\"\"\"\"\"\"\u001b[39;00m\n\u001b[32m--> \u001b[39m\u001b[32m125\u001b[39m     \u001b[38;5;28;43msuper\u001b[39;49m\u001b[43m(\u001b[49m\u001b[43m)\u001b[49m\u001b[43m.\u001b[49m\u001b[34;43m__init__\u001b[39;49m\u001b[43m(\u001b[49m\u001b[43m*\u001b[49m\u001b[43margs\u001b[49m\u001b[43m,\u001b[49m\u001b[43m \u001b[49m\u001b[43m*\u001b[49m\u001b[43m*\u001b[49m\u001b[43mkwargs\u001b[49m\u001b[43m)\u001b[49m\n",
      "\u001b[36mFile \u001b[39m\u001b[32md:\\D\\Code-asistent\\.venv\\Lib\\site-packages\\pydantic\\main.py:214\u001b[39m, in \u001b[36mBaseModel.__init__\u001b[39m\u001b[34m(self, **data)\u001b[39m\n\u001b[32m    212\u001b[39m \u001b[38;5;66;03m# `__tracebackhide__` tells pytest and some other tools to omit this function from tracebacks\u001b[39;00m\n\u001b[32m    213\u001b[39m __tracebackhide__ = \u001b[38;5;28;01mTrue\u001b[39;00m\n\u001b[32m--> \u001b[39m\u001b[32m214\u001b[39m validated_self = \u001b[38;5;28;43mself\u001b[39;49m\u001b[43m.\u001b[49m\u001b[43m__pydantic_validator__\u001b[49m\u001b[43m.\u001b[49m\u001b[43mvalidate_python\u001b[49m\u001b[43m(\u001b[49m\u001b[43mdata\u001b[49m\u001b[43m,\u001b[49m\u001b[43m \u001b[49m\u001b[43mself_instance\u001b[49m\u001b[43m=\u001b[49m\u001b[38;5;28;43mself\u001b[39;49m\u001b[43m)\u001b[49m\n\u001b[32m    215\u001b[39m \u001b[38;5;28;01mif\u001b[39;00m \u001b[38;5;28mself\u001b[39m \u001b[38;5;129;01mis\u001b[39;00m \u001b[38;5;129;01mnot\u001b[39;00m validated_self:\n\u001b[32m    216\u001b[39m     warnings.warn(\n\u001b[32m    217\u001b[39m         \u001b[33m'\u001b[39m\u001b[33mA custom validator is returning a value other than `self`.\u001b[39m\u001b[38;5;130;01m\\n\u001b[39;00m\u001b[33m'\u001b[39m\n\u001b[32m    218\u001b[39m         \u001b[33m\"\u001b[39m\u001b[33mReturning anything other than `self` from a top level model validator isn\u001b[39m\u001b[33m'\u001b[39m\u001b[33mt supported when validating via `__init__`.\u001b[39m\u001b[38;5;130;01m\\n\u001b[39;00m\u001b[33m\"\u001b[39m\n\u001b[32m    219\u001b[39m         \u001b[33m'\u001b[39m\u001b[33mSee the `model_validator` docs (https://docs.pydantic.dev/latest/concepts/validators/#model-validators) for more details.\u001b[39m\u001b[33m'\u001b[39m,\n\u001b[32m    220\u001b[39m         stacklevel=\u001b[32m2\u001b[39m,\n\u001b[32m    221\u001b[39m     )\n",
      "\u001b[31mValidationError\u001b[39m: 1 validation error for ChatGroq\nmodel\n  Field required [type=missing, input_value={'api_key': 'gsk_3CHlOuHC...WV', 'model_kwargs': {}}, input_type=dict]\n    For further information visit https://errors.pydantic.dev/2.10/v/missing"
     ]
    }
   ],
   "source": [
    "llm = ChatGroq(\n",
    "    api_key=key,\n",
    "    model=\"qwen-\"\n",
    ")"
   ]
  },
  {
   "cell_type": "markdown",
   "metadata": {},
   "source": [
    "## testing Groq"
   ]
  },
  {
   "cell_type": "code",
   "execution_count": null,
   "metadata": {},
   "outputs": [],
   "source": [
    "prompt=ChatPromptTemplate.from_template(\"how won first {devi}\")"
   ]
  },
  {
   "cell_type": "code",
   "execution_count": null,
   "metadata": {},
   "outputs": [],
   "source": [
    "chain=prompt | llm"
   ]
  },
  {
   "cell_type": "code",
   "execution_count": null,
   "metadata": {},
   "outputs": [
    {
     "name": "stdout",
     "output_type": "stream",
     "text": [
      "The first One Day International (ODI) match in cricket history was played between Australia and England on January 5, 1971 at the Melbourne Cricket Ground (MCG) in Australia. England won the toss and elected to bat first. They scored 190 runs in 52.2 overs, with John Edrich top-scoring with 82 runs. In response, Australia was bowled out for 171 runs in 49.1 overs, with England winning the match by 19 runs. Geoff Dymock was the most successful bowler for Australia, taking 4 wickets for 62 runs.\n",
      "\n",
      "It is worth noting that the concept of One Day International cricket was introduced as a way to bring in more spectators and revenue to the game. Prior to this, international cricket matches were mostly Test matches, which were played over a period of 5 days. The first ODI match was a 40-over-per-side game, but the format has since evolved to the current 50-over-per-side format.\n"
     ]
    }
   ],
   "source": [
    "print(chain.invoke(\"odi\").content)"
   ]
  },
  {
   "cell_type": "markdown",
   "metadata": {},
   "source": [
    "## loading pdf and per processing"
   ]
  },
  {
   "cell_type": "code",
   "execution_count": null,
   "metadata": {},
   "outputs": [],
   "source": [
    "path=r\"D:\\my rag\\src\\data\\DevCv31july2024M.pdf\""
   ]
  },
  {
   "cell_type": "code",
   "execution_count": null,
   "metadata": {},
   "outputs": [
    {
     "data": {
      "text/plain": [
       "{'source': 'D:\\\\my rag\\\\src\\\\data\\\\DevCv31july2024M.pdf', 'page': 0}"
      ]
     },
     "execution_count": 96,
     "metadata": {},
     "output_type": "execute_result"
    }
   ],
   "source": [
    "loader=PyPDFLoader(path)\n",
    "docs=[]\n",
    "doc_load=loader.lazy_load()\n",
    "for doc in doc_load:\n",
    "    docs.append(doc)"
   ]
  },
  {
   "cell_type": "code",
   "execution_count": null,
   "metadata": {},
   "outputs": [],
   "source": [
    "text_split=RecursiveCharacterTextSplitter(\n",
    "    chunk_size=300,\n",
    "    chunk_overlap=20,\n",
    "    length_function=len,\n",
    "    is_separator_regex=False,\n",
    ")"
   ]
  },
  {
   "cell_type": "code",
   "execution_count": null,
   "metadata": {},
   "outputs": [
    {
     "data": {
      "text/plain": [
       "['hlo hi']"
      ]
     },
     "execution_count": 195,
     "metadata": {},
     "output_type": "execute_result"
    }
   ],
   "source": [
    "text_split.split_text(\"hlo hi\")"
   ]
  },
  {
   "cell_type": "code",
   "execution_count": null,
   "metadata": {},
   "outputs": [],
   "source": [
    "text=text_split.create_documents([docs[0].page_content])"
   ]
  },
  {
   "cell_type": "code",
   "execution_count": null,
   "metadata": {},
   "outputs": [],
   "source": [
    "meta_data_prompt = \"\"\" You are a text categorization model. Your task is to analyze the provided text and classify it based on what it indicates about the personality of the person being described. Identify key personality traits, behaviors, interests, emotional tendencies, or if it is a story about the person. Remember for every prompt give only  Return the result as a single string indicating the content category. This are one of the possible content categories are: \"personality traits\", \"behaviors\", \"interests\", \"emotional tendencies\", \"skills\", \"experiences\", \"hobbies\", \"story\", or \"other\". Example: Input: \"He is a kind and generous person.\" Output: \"personality traits\" Input: \"She loves playing the piano and enjoys reading books.\" Output: \"interests\" Input: \"He tends to be very organized and punctual.\" Output: \"behaviors\" Input: \"She often feels anxious in large crowds.\" Output: \"emotional tendencies\" Input: \"He is excellent at programming in Python.\" Output: \"skills\" Input: \"She traveled across Europe last summer.\" Output: \"experiences\" Input: \"He enjoys hiking and photography.\" Output: \"hobbies\" Input: \"Once upon a time, he decided to travel the world and had many adventures.\" Output: \"story\" Now, analyze the following text: \"{input_text}\" Return only the content category as a single string. \"\"\""
   ]
  },
  {
   "cell_type": "code",
   "execution_count": null,
   "metadata": {},
   "outputs": [],
   "source": [
    "meta_data_prompt_temp=ChatPromptTemplate.from_template(meta_data_prompt)\n",
    "meta_data_chain=meta_data_prompt_temp |llm\n",
    "def get_meta_data(user_prompt):\n",
    "    return meta_data_chain.invoke({\"input_text\":user_prompt}).content\n",
    "    "
   ]
  },
  {
   "cell_type": "code",
   "execution_count": null,
   "metadata": {},
   "outputs": [
    {
     "data": {
      "text/plain": [
       "'\"behaviors\"'"
      ]
     },
     "execution_count": 199,
     "metadata": {},
     "output_type": "execute_result"
    }
   ],
   "source": [
    "get_meta_data(\"one day his frnds got in to a fight and he coudent abele to do anything\")"
   ]
  },
  {
   "cell_type": "code",
   "execution_count": null,
   "metadata": {},
   "outputs": [
    {
     "name": "stdout",
     "output_type": "stream",
     "text": [
      "Output: \"other\"\n",
      "\"skills\"\n",
      "Based on the provided text, the content category is \"skills\". This is because the text mainly discusses the tools, platforms, and programming languages that the person is familiar with, which are indicative of their skills.\n",
      "\"projects\"\n",
      "\"other\"\n",
      "\"skills\"\n",
      "\"skills, experiences\"\n",
      "\"skills, experiences\"\n",
      "\"skills, experiences\"\n",
      "\"skills\"\n",
      "\"experiences\"\n",
      "\"experiences\"\n",
      "\"other\"\n",
      "\"other\"\n",
      "\"skills\"\n",
      "\"skills, experiences\"\n",
      "\"skills, behaviors\"\n"
     ]
    }
   ],
   "source": [
    "chuncks=[]\n",
    "for doc in docs:\n",
    "    for chunck in text_split.split_text(doc.page_content):\n",
    "        meta_data=get_meta_data(chunck)\n",
    "        chuncks.append(Document(\n",
    "            page_content=chunck,\n",
    "            metadata={\n",
    "                \"name\":\"Devi Sri Ranga Prasad Gudimetla\",\n",
    "                \"index\":meta_data\n",
    "            }\n",
    "        ))\n",
    "        print(meta_data)"
   ]
  },
  {
   "cell_type": "code",
   "execution_count": null,
   "metadata": {},
   "outputs": [
    {
     "data": {
      "text/plain": [
       "[Document(metadata={'name': 'Devi Sri Ranga Prasad Gudimetla', 'index': 'Output: \"other\"'}, page_content='G.Devi Sri Ranga Prasad \\nLinkedin: g-devi-sri-ranga-prasad                                                                                        Email: devisrprasad948@gmail.com'),\n",
       " Document(metadata={'name': 'Devi Sri Ranga Prasad Gudimetla', 'index': '\"skills\"'}, page_content='GitHub:-  https://github.com/dspStudent                                                            Mobile:  +91-7032857480 \\nSKILLS SUMMARY \\n• Languages: C++, C, Core Java, Python, R , kotlin \\n• Technologies: HTML , CSS, Java Script, Java Spring Boot, Spring Security 6'),\n",
       " Document(metadata={'name': 'Devi Sri Ranga Prasad Gudimetla', 'index': 'Based on the provided text, the content category is \"skills\". This is because the text mainly discusses the tools, platforms, and programming languages that the person is familiar with, which are indicative of their skills.'}, page_content='• Tools/Platforms: MySQL, MongoDB \\n• Data Analysis:          Excel, Tabuleo  \\nINTERNSHIP  \\n• R Programing language:                                                                                                                             June 2023'),\n",
       " Document(metadata={'name': 'Devi Sri Ranga Prasad Gudimetla', 'index': '\"projects\"'}, page_content='PROJECTS \\n• Anime List Backend Api:'),\n",
       " Document(metadata={'name': 'Devi Sri Ranga Prasad Gudimetla', 'index': '\"other\"'}, page_content='• Api Link :- https://naa-anime-list-backend-api.onrender.com/login                                         \\n• Users can keep track of the anime they have watched'),\n",
       " Document(metadata={'name': 'Devi Sri Ranga Prasad Gudimetla', 'index': '\"skills\"'}, page_content='• The security is robust because it contains OAuth 2.0 and JWT token verification.  And also The Animes Collection has 14k+ \\nrecords   \\n• Developed proficiently in Spring Boot Security 6, with APIs and MongoDB as well. \\n• Rock paper scissor game:'),\n",
       " Document(metadata={'name': 'Devi Sri Ranga Prasad Gudimetla', 'index': '\"skills, experiences\"'}, page_content='• AI-based project where the player competes against the computer.                                                             Jul 2023 \\n• Utilizes OpenCV and Media Pipe for hand gesture recognition.'),\n",
       " Document(metadata={'name': 'Devi Sri Ranga Prasad Gudimetla', 'index': '\"skills, experiences\"'}, page_content='• Developed proficiency in Python and learned to implement computer vision and machine learning techniques. \\n• Airbnb data analysis: \\n• Conducted a comprehensive analysis of Airbnb pricing patterns to understand market dynamics.      Jun 2023'),\n",
       " Document(metadata={'name': 'Devi Sri Ranga Prasad Gudimetla', 'index': '\"skills, experiences\"'}, page_content='• Developed a predictive model capable of estimating Airbnb rental prices.  \\n• Enhanced data analytics skills, particularly in R programming, and gained insights into the factors influencing \\naccommodation pricing.  \\nACHIEVEMENTS'),\n",
       " Document(metadata={'name': 'Devi Sri Ranga Prasad Gudimetla', 'index': '\"skills\"'}, page_content='ACHIEVEMENTS  \\n• Solved 370+ Questions in LeetCode , 100+ Streak in LeetCode and GFG, CodeCheff Max Rating 1503,  GFG Max Rating 1780, \\nLeetCode Max Rating 1489 \\nCERTIFICATES \\n• R programing || Board infinity Jul 2023 \\n \\n• Java ||Hacker Rank  Feb 2022 \\n \\n• Python || Coursera   Nov 2022'),\n",
       " Document(metadata={'name': 'Devi Sri Ranga Prasad Gudimetla', 'index': '\"experiences\"'}, page_content='• C, C++ || Coursera Dec 2021 \\nEDUCATION \\nLovely Professional  University                                                               Phagwara, IN'),\n",
       " Document(metadata={'name': 'Devi Sri Ranga Prasad Gudimetla', 'index': '\"experiences\"'}, page_content='B.Tech. in Computer Science 76%                                                                                                                             2021-2025'),\n",
       " Document(metadata={'name': 'Devi Sri Ranga Prasad Gudimetla', 'index': '\"other\"'}, page_content='Narayana Junior College                                                                                                                                Andhra Pradesh, IN'),\n",
       " Document(metadata={'name': 'Devi Sri Ranga Prasad Gudimetla', 'index': '\"other\"'}, page_content='Intermediate 96.5%                                                                                                                                                    2019-2021'),\n",
       " Document(metadata={'name': 'Devi Sri Ranga Prasad Gudimetla', 'index': '\"skills\"'}, page_content='Narayana High School                                                                                                                                      Andhra Pradesh, IN   \\n     10th class 95% \\n      \\n• Embarked on a steep learning curve to master R programming and data analysis techniques.'),\n",
       " Document(metadata={'name': 'Devi Sri Ranga Prasad Gudimetla', 'index': '\"skills, experiences\"'}, page_content='• Overcame initial challenges through dedicated study and hands -on practice with real datasets.  \\n• Transitioned from finding data analysis challenging to enjoying the intricacies of data interpretation and model creation.'),\n",
       " Document(metadata={'name': 'Devi Sri Ranga Prasad Gudimetla', 'index': '\"skills, behaviors\"'}, page_content='• Applied newly acquired R programming skills to contribute meaningfully to a project, demonstrating the ability to learn  \\n• and apply new technologies effectively.     \\n \\n2018-2019')]"
      ]
     },
     "execution_count": 207,
     "metadata": {},
     "output_type": "execute_result"
    }
   ],
   "source": [
    "chuncks"
   ]
  },
  {
   "cell_type": "markdown",
   "metadata": {},
   "source": [
    "# Embedings "
   ]
  },
  {
   "cell_type": "code",
   "execution_count": 5,
   "metadata": {},
   "outputs": [],
   "source": [
    "from langchain_huggingface import HuggingFaceEmbeddings"
   ]
  },
  {
   "cell_type": "code",
   "execution_count": null,
   "metadata": {},
   "outputs": [
    {
     "ename": "NameError",
     "evalue": "name 'RobertaTokenizer' is not defined",
     "output_type": "error",
     "traceback": [
      "\u001b[31m---------------------------------------------------------------------------\u001b[39m",
      "\u001b[31mNameError\u001b[39m                                 Traceback (most recent call last)",
      "\u001b[36mCell\u001b[39m\u001b[36m \u001b[39m\u001b[32mIn[7]\u001b[39m\u001b[32m, line 1\u001b[39m\n\u001b[32m----> \u001b[39m\u001b[32m1\u001b[39m tokenizer = \u001b[43mRobertaTokenizer\u001b[49m.from_pretrained(\u001b[33m\"\u001b[39m\u001b[33mmicrosoft/graphcodebert-base\u001b[39m\u001b[33m\"\u001b[39m)\n\u001b[32m      2\u001b[39m model = RobertaModel.from_pretrained(\u001b[33m\"\u001b[39m\u001b[33mmicrosoft/graphcodebert-base\u001b[39m\u001b[33m\"\u001b[39m)\n",
      "\u001b[31mNameError\u001b[39m: name 'RobertaTokenizer' is not defined"
     ]
    }
   ],
   "source": []
  },
  {
   "cell_type": "code",
   "execution_count": 6,
   "metadata": {},
   "outputs": [
    {
     "name": "stderr",
     "output_type": "stream",
     "text": [
      "d:\\D\\Code-asistent\\.venv\\Lib\\site-packages\\tqdm\\auto.py:21: TqdmWarning: IProgress not found. Please update jupyter and ipywidgets. See https://ipywidgets.readthedocs.io/en/stable/user_install.html\n",
      "  from .autonotebook import tqdm as notebook_tqdm\n",
      "Some weights of BertModel were not initialized from the model checkpoint at jinaai/jina-embeddings-v2-base-en and are newly initialized: ['embeddings.position_embeddings.weight', 'encoder.layer.0.intermediate.dense.bias', 'encoder.layer.0.intermediate.dense.weight', 'encoder.layer.0.output.LayerNorm.bias', 'encoder.layer.0.output.LayerNorm.weight', 'encoder.layer.0.output.dense.bias', 'encoder.layer.0.output.dense.weight', 'encoder.layer.1.intermediate.dense.bias', 'encoder.layer.1.intermediate.dense.weight', 'encoder.layer.1.output.LayerNorm.bias', 'encoder.layer.1.output.LayerNorm.weight', 'encoder.layer.1.output.dense.bias', 'encoder.layer.1.output.dense.weight', 'encoder.layer.10.intermediate.dense.bias', 'encoder.layer.10.intermediate.dense.weight', 'encoder.layer.10.output.LayerNorm.bias', 'encoder.layer.10.output.LayerNorm.weight', 'encoder.layer.10.output.dense.bias', 'encoder.layer.10.output.dense.weight', 'encoder.layer.11.intermediate.dense.bias', 'encoder.layer.11.intermediate.dense.weight', 'encoder.layer.11.output.LayerNorm.bias', 'encoder.layer.11.output.LayerNorm.weight', 'encoder.layer.11.output.dense.bias', 'encoder.layer.11.output.dense.weight', 'encoder.layer.2.intermediate.dense.bias', 'encoder.layer.2.intermediate.dense.weight', 'encoder.layer.2.output.LayerNorm.bias', 'encoder.layer.2.output.LayerNorm.weight', 'encoder.layer.2.output.dense.bias', 'encoder.layer.2.output.dense.weight', 'encoder.layer.3.intermediate.dense.bias', 'encoder.layer.3.intermediate.dense.weight', 'encoder.layer.3.output.LayerNorm.bias', 'encoder.layer.3.output.LayerNorm.weight', 'encoder.layer.3.output.dense.bias', 'encoder.layer.3.output.dense.weight', 'encoder.layer.4.intermediate.dense.bias', 'encoder.layer.4.intermediate.dense.weight', 'encoder.layer.4.output.LayerNorm.bias', 'encoder.layer.4.output.LayerNorm.weight', 'encoder.layer.4.output.dense.bias', 'encoder.layer.4.output.dense.weight', 'encoder.layer.5.intermediate.dense.bias', 'encoder.layer.5.intermediate.dense.weight', 'encoder.layer.5.output.LayerNorm.bias', 'encoder.layer.5.output.LayerNorm.weight', 'encoder.layer.5.output.dense.bias', 'encoder.layer.5.output.dense.weight', 'encoder.layer.6.intermediate.dense.bias', 'encoder.layer.6.intermediate.dense.weight', 'encoder.layer.6.output.LayerNorm.bias', 'encoder.layer.6.output.LayerNorm.weight', 'encoder.layer.6.output.dense.bias', 'encoder.layer.6.output.dense.weight', 'encoder.layer.7.intermediate.dense.bias', 'encoder.layer.7.intermediate.dense.weight', 'encoder.layer.7.output.LayerNorm.bias', 'encoder.layer.7.output.LayerNorm.weight', 'encoder.layer.7.output.dense.bias', 'encoder.layer.7.output.dense.weight', 'encoder.layer.8.intermediate.dense.bias', 'encoder.layer.8.intermediate.dense.weight', 'encoder.layer.8.output.LayerNorm.bias', 'encoder.layer.8.output.LayerNorm.weight', 'encoder.layer.8.output.dense.bias', 'encoder.layer.8.output.dense.weight', 'encoder.layer.9.intermediate.dense.bias', 'encoder.layer.9.intermediate.dense.weight', 'encoder.layer.9.output.LayerNorm.bias', 'encoder.layer.9.output.LayerNorm.weight', 'encoder.layer.9.output.dense.bias', 'encoder.layer.9.output.dense.weight']\n",
      "You should probably TRAIN this model on a down-stream task to be able to use it for predictions and inference.\n"
     ]
    }
   ],
   "source": [
    "embeddings=HuggingFaceEmbeddings(\n",
    "    model_name=\"jinaai/jina-embeddings-v2-base-en\" \n",
    "    )"
   ]
  },
  {
   "cell_type": "code",
   "execution_count": null,
   "metadata": {},
   "outputs": [
    {
     "name": "stderr",
     "output_type": "stream",
     "text": [
      "BertSdpaSelfAttention is used but `torch.nn.functional.scaled_dot_product_attention` does not support non-absolute `position_embedding_type` or `output_attentions=True` or `head_mask`. Falling back to the manual attention implementation, but specifying the manual implementation will be required from Transformers version v5.0.0 onwards. This warning can be removed using the argument `attn_implementation=\"eager\"` when loading the model.\n"
     ]
    },
    {
     "data": {
      "text/plain": [
       "[-0.04234442487359047,\n",
       " 0.009266708977520466,\n",
       " -0.015688983723521233,\n",
       " 0.005612849723547697,\n",
       " 0.00849229097366333,\n",
       " 0.03032863698899746,\n",
       " 0.013040966354310513,\n",
       " -0.051393717527389526,\n",
       " 0.018748821690678596,\n",
       " -0.022534489631652832,\n",
       " -0.0031034275889396667,\n",
       " -0.0008782027871347964,\n",
       " -0.009651293978095055,\n",
       " -0.007328558247536421,\n",
       " -0.024030957370996475,\n",
       " -0.06529922038316727,\n",
       " -0.009807086549699306,\n",
       " 0.008876029402017593,\n",
       " 0.04096895083785057,\n",
       " -0.07156270742416382,\n",
       " 0.011199243366718292,\n",
       " -0.047339845448732376,\n",
       " -0.07995583862066269,\n",
       " 0.01434923056513071,\n",
       " -0.02617347054183483,\n",
       " 0.0037702652625739574,\n",
       " -0.04085173085331917,\n",
       " -0.004913887474685907,\n",
       " 0.011557321064174175,\n",
       " 0.08670678734779358,\n",
       " -0.09820560365915298,\n",
       " 0.025095190852880478,\n",
       " 0.03400926664471626,\n",
       " 0.05867346376180649,\n",
       " -0.06914695352315903,\n",
       " -0.08352463692426682,\n",
       " -0.010020711459219456,\n",
       " -0.09523559361696243,\n",
       " 0.0520259328186512,\n",
       " -0.025625353679060936,\n",
       " 0.02701694332063198,\n",
       " -0.0064569017849862576,\n",
       " 0.062376394867897034,\n",
       " -0.03315660357475281,\n",
       " -0.008032807148993015,\n",
       " 0.02958722598850727,\n",
       " -0.003079329850152135,\n",
       " 0.09698286652565002,\n",
       " -0.010078281164169312,\n",
       " 0.03594884276390076,\n",
       " 0.0069167157635092735,\n",
       " 0.053284652531147,\n",
       " 0.005143621005117893,\n",
       " 0.019337816163897514,\n",
       " 0.06340320408344269,\n",
       " -0.036175042390823364,\n",
       " 0.024654796347022057,\n",
       " 0.0046181585639715195,\n",
       " 0.01861558109521866,\n",
       " 0.02476285584270954,\n",
       " -0.0006827005418017507,\n",
       " 0.020916325971484184,\n",
       " 0.03751369193196297,\n",
       " -0.0453784354031086,\n",
       " -0.0005382011295296252,\n",
       " 0.0063641369342803955,\n",
       " 0.007181732915341854,\n",
       " -0.0058541917242109776,\n",
       " 0.022149454802274704,\n",
       " -0.02104414999485016,\n",
       " 0.011532259173691273,\n",
       " 0.058558374643325806,\n",
       " 0.06544392555952072,\n",
       " -0.02614629454910755,\n",
       " 0.059576332569122314,\n",
       " -0.012436664663255215,\n",
       " 0.03348609805107117,\n",
       " -0.004804836120456457,\n",
       " 0.012657533399760723,\n",
       " -0.058441754430532455,\n",
       " -0.04586067795753479,\n",
       " 0.03224420174956322,\n",
       " 0.022780880331993103,\n",
       " 0.019699182361364365,\n",
       " -0.08169466257095337,\n",
       " 0.03696669638156891,\n",
       " 0.022228069603443146,\n",
       " 0.033851150423288345,\n",
       " -0.05975521728396416,\n",
       " -0.0023467608261853456,\n",
       " -0.011324510909616947,\n",
       " 0.012242165394127369,\n",
       " -0.0234127938747406,\n",
       " 0.03722349926829338,\n",
       " 0.03960641101002693,\n",
       " 0.03956223651766777,\n",
       " -0.02718721516430378,\n",
       " -0.07491626590490341,\n",
       " -0.0521957129240036,\n",
       " -0.003051153616979718,\n",
       " -0.0013931251596659422,\n",
       " -0.03572512045502663,\n",
       " -0.06620170921087265,\n",
       " 0.09679930657148361,\n",
       " -0.006689907517284155,\n",
       " 0.013584738597273827,\n",
       " -0.05306650325655937,\n",
       " -0.03691461309790611,\n",
       " 0.0569906085729599,\n",
       " 0.02267500013113022,\n",
       " 0.038943033665418625,\n",
       " -0.039388176053762436,\n",
       " 0.045151300728321075,\n",
       " -0.07408355921506882,\n",
       " 0.028119053691625595,\n",
       " 0.04213159158825874,\n",
       " -0.04507945105433464,\n",
       " 0.001631303457543254,\n",
       " -0.06012166664004326,\n",
       " 0.023034296929836273,\n",
       " 0.060739316046237946,\n",
       " 0.003712349571287632,\n",
       " -0.022591715678572655,\n",
       " -0.01302654854953289,\n",
       " -0.03253031149506569,\n",
       " -0.03120030090212822,\n",
       " -0.01598249189555645,\n",
       " -0.008387371897697449,\n",
       " 0.02138371579349041,\n",
       " 0.040488701313734055,\n",
       " 0.02975228987634182,\n",
       " -0.03351818770170212,\n",
       " 0.002982994308695197,\n",
       " 0.0219369325786829,\n",
       " 0.014778761193156242,\n",
       " -0.022056298330426216,\n",
       " -0.025801967829465866,\n",
       " -0.04396916180849075,\n",
       " -0.023047547787427902,\n",
       " 0.007221412379294634,\n",
       " 0.030308164656162262,\n",
       " -0.0103050097823143,\n",
       " 0.0353834368288517,\n",
       " 0.05130020156502724,\n",
       " -0.02920619770884514,\n",
       " 0.012776851654052734,\n",
       " 0.0326213575899601,\n",
       " 0.0225257258862257,\n",
       " -0.016348201781511307,\n",
       " -0.026699548587203026,\n",
       " 0.009933211840689182,\n",
       " -0.042978398501873016,\n",
       " -0.028602484613656998,\n",
       " 0.058771271258592606,\n",
       " -0.038119491189718246,\n",
       " -0.05806110426783562,\n",
       " -0.014870463870465755,\n",
       " 0.04430206120014191,\n",
       " 0.04848572239279747,\n",
       " 0.03419221192598343,\n",
       " 0.035977255553007126,\n",
       " 0.03999723866581917,\n",
       " 0.014072384685277939,\n",
       " 0.029239848256111145,\n",
       " 0.005841737613081932,\n",
       " 0.0035913088358938694,\n",
       " 0.03306176885962486,\n",
       " -0.022900942713022232,\n",
       " 0.011087121441960335,\n",
       " 0.043648749589920044,\n",
       " 0.02488345094025135,\n",
       " -0.0011954624205827713,\n",
       " -0.0299406535923481,\n",
       " 0.0339420810341835,\n",
       " -0.025232072919607162,\n",
       " 0.01694655977189541,\n",
       " 0.03979792445898056,\n",
       " 0.05276593565940857,\n",
       " 0.03660738468170166,\n",
       " -0.01595110073685646,\n",
       " -0.027881450951099396,\n",
       " -0.00226108031347394,\n",
       " -0.02796786278486252,\n",
       " 0.0018780563259497285,\n",
       " -0.05206911265850067,\n",
       " 0.02709011733531952,\n",
       " 0.0803985744714737,\n",
       " 0.06442689150571823,\n",
       " 0.026801075786352158,\n",
       " 0.05505668744444847,\n",
       " -0.06583093106746674,\n",
       " -0.029623620212078094,\n",
       " -0.02499769814312458,\n",
       " 0.006879930384457111,\n",
       " 0.06976868212223053,\n",
       " -0.02120259776711464,\n",
       " 0.012775939889252186,\n",
       " 0.10176528990268707,\n",
       " 0.030526913702487946,\n",
       " 0.025244709104299545,\n",
       " -0.004445129539817572,\n",
       " 0.04241926595568657,\n",
       " 0.0032623165752738714,\n",
       " -0.05929315835237503,\n",
       " -0.03115714155137539,\n",
       " -0.005172558128833771,\n",
       " -0.027293389663100243,\n",
       " 0.05241399258375168,\n",
       " 0.01452335249632597,\n",
       " 0.050285454839468,\n",
       " 0.038346026092767715,\n",
       " 0.037795744836330414,\n",
       " -0.00755580747500062,\n",
       " 0.006042043678462505,\n",
       " 0.010117177851498127,\n",
       " -0.002164567122235894,\n",
       " -0.10423146188259125,\n",
       " -0.04270654544234276,\n",
       " 0.033002015203237534,\n",
       " -0.028719360008835793,\n",
       " 0.05171583592891693,\n",
       " -0.06872043758630753,\n",
       " 0.02423785626888275,\n",
       " 0.005944076459854841,\n",
       " -0.040614936500787735,\n",
       " -0.02259005233645439,\n",
       " -0.006304794456809759,\n",
       " 0.04894384741783142,\n",
       " 0.03954700753092766,\n",
       " -0.03705640509724617,\n",
       " -0.03437209874391556,\n",
       " -0.002218561712652445,\n",
       " 0.01446505356580019,\n",
       " -0.031090615317225456,\n",
       " -0.05734739825129509,\n",
       " -0.016407407820224762,\n",
       " 0.008591221645474434,\n",
       " -0.05117307975888252,\n",
       " -0.011916766874492168,\n",
       " -0.0066867610439658165,\n",
       " -0.023577511310577393,\n",
       " 0.0066435798071324825,\n",
       " 0.027542755007743835,\n",
       " -0.022614363580942154,\n",
       " -0.014248061925172806,\n",
       " -0.042057137936353683,\n",
       " -0.004663468338549137,\n",
       " 0.005668212193995714,\n",
       " 0.010022572241723537,\n",
       " 0.004142852500081062,\n",
       " 0.05794302001595497,\n",
       " -0.0024569903034716845,\n",
       " -0.011222649365663528,\n",
       " 0.05610845610499382,\n",
       " -0.005380628164857626,\n",
       " 0.052884429693222046,\n",
       " -0.049707040190696716,\n",
       " -0.013521620072424412,\n",
       " 0.08172977715730667,\n",
       " 0.0048816511407494545,\n",
       " -0.008088521659374237,\n",
       " -0.004849335644394159,\n",
       " -0.03939935192465782,\n",
       " 0.04396580532193184,\n",
       " -0.002715299604460597,\n",
       " -0.033211831003427505,\n",
       " -0.003424722235649824,\n",
       " 0.06582893431186676,\n",
       " 0.012707906775176525,\n",
       " 0.0041872663423419,\n",
       " 0.03378574177622795,\n",
       " 0.012354603968560696,\n",
       " -0.006248632445931435,\n",
       " 0.030615152791142464,\n",
       " -0.023265423253178596,\n",
       " -0.03609200194478035,\n",
       " 0.03352934867143631,\n",
       " -0.0030383386183530092,\n",
       " -0.005903064738959074,\n",
       " 0.010058598592877388,\n",
       " -0.016549404710531235,\n",
       " 0.008551307953894138,\n",
       " -0.02157335914671421,\n",
       " -0.01519964449107647,\n",
       " -0.013747982680797577,\n",
       " -0.043330710381269455,\n",
       " -0.023648420348763466,\n",
       " 0.02977922186255455,\n",
       " -0.023346982896327972,\n",
       " -0.05161488801240921,\n",
       " -0.020726460963487625,\n",
       " -0.01858251728117466,\n",
       " 0.0037741935811936855,\n",
       " 0.0326402373611927,\n",
       " -0.03816245496273041,\n",
       " -0.07126014679670334,\n",
       " 0.000384481274522841,\n",
       " 0.0059618339873850346,\n",
       " -0.014019363559782505,\n",
       " 0.03684544935822487,\n",
       " -0.04237532988190651,\n",
       " -0.04619342461228371,\n",
       " -0.02882126159965992,\n",
       " -0.06426776945590973,\n",
       " -0.054704297333955765,\n",
       " -0.029644658789038658,\n",
       " -0.001488885493017733,\n",
       " 0.08571282029151917,\n",
       " 0.04792012646794319,\n",
       " -0.030556360259652138,\n",
       " 0.009735685773193836,\n",
       " 0.011179663240909576,\n",
       " -0.0048040528781712055,\n",
       " -0.06425324082374573,\n",
       " 0.044766753911972046,\n",
       " -0.06051647663116455,\n",
       " 0.005062372889369726,\n",
       " 0.05079178139567375,\n",
       " -0.024775736033916473,\n",
       " -0.11183246970176697,\n",
       " 0.04658918082714081,\n",
       " 0.037129033356904984,\n",
       " 0.05337776243686676,\n",
       " 0.013741974718868732,\n",
       " -0.022121399641036987,\n",
       " -0.023100413382053375,\n",
       " 0.028441859409213066,\n",
       " -0.011401555500924587,\n",
       " -0.06720636039972305,\n",
       " 0.010301141999661922,\n",
       " 0.0023983363062143326,\n",
       " 0.005014490801841021,\n",
       " 0.03076971136033535,\n",
       " -0.017551664263010025,\n",
       " 0.027457864955067635,\n",
       " -0.016514308750629425,\n",
       " 0.0490349717438221,\n",
       " 0.028510576114058495,\n",
       " -0.04609082266688347,\n",
       " -0.059110142290592194,\n",
       " 0.004214587155729532,\n",
       " -0.018701108172535896,\n",
       " 0.03199084848165512,\n",
       " -0.040175046771764755,\n",
       " -0.06200896203517914,\n",
       " -0.036089956760406494,\n",
       " 0.06160903722047806,\n",
       " -0.01598460040986538,\n",
       " 0.02774990163743496,\n",
       " 0.043863728642463684,\n",
       " 0.053774915635585785,\n",
       " -0.039651188999414444,\n",
       " -0.047887712717056274,\n",
       " -0.05324029549956322,\n",
       " -0.0017552783247083426,\n",
       " -0.017441486939787865,\n",
       " -0.004951095208525658,\n",
       " 0.016974104568362236,\n",
       " 0.0456789992749691,\n",
       " -0.06344074755907059,\n",
       " -0.010756014846265316,\n",
       " 0.043085113167762756,\n",
       " -0.012129716575145721,\n",
       " 0.01917446218430996,\n",
       " 0.012964358553290367,\n",
       " 0.025382237508893013,\n",
       " 0.03318208456039429,\n",
       " -0.0072616515681147575,\n",
       " 0.012158269062638283,\n",
       " -0.054829005151987076,\n",
       " -0.050064846873283386,\n",
       " -0.030687540769577026,\n",
       " -0.03241816908121109,\n",
       " -0.007038874551653862,\n",
       " 0.02432163618505001,\n",
       " 0.01226289663463831,\n",
       " -0.008723849430680275,\n",
       " -0.010839755646884441,\n",
       " -0.07365639507770538,\n",
       " 0.018675893545150757,\n",
       " -0.06734782457351685,\n",
       " 0.013597115874290466,\n",
       " -0.007975679822266102,\n",
       " 0.03005692921578884,\n",
       " -0.06616796553134918,\n",
       " 0.08956519514322281,\n",
       " 0.020748410373926163,\n",
       " -0.08504868298768997,\n",
       " 0.06239067390561104,\n",
       " 0.08155232667922974,\n",
       " 0.028793970122933388,\n",
       " -0.026627127081155777,\n",
       " -0.08760958164930344,\n",
       " 0.04062194749712944,\n",
       " 0.029392993077635765,\n",
       " -0.003633244428783655,\n",
       " -0.019260015338659286,\n",
       " 0.0033270998392254114,\n",
       " -0.04254695028066635,\n",
       " 0.023708773776888847,\n",
       " 0.014570116065442562,\n",
       " -0.003569245571270585,\n",
       " 0.024172797799110413,\n",
       " 0.046470630913972855,\n",
       " 0.02445266954600811,\n",
       " 0.02335643395781517,\n",
       " 0.03863963857293129,\n",
       " -0.009853621944785118,\n",
       " -0.002633488504216075,\n",
       " -0.0012634675949811935,\n",
       " -0.040307775139808655,\n",
       " -0.08757674694061279,\n",
       " -0.02836746536195278,\n",
       " 0.001842455007135868,\n",
       " 0.07169630378484726,\n",
       " 0.0002688524255063385,\n",
       " -0.04227130860090256,\n",
       " 0.03816365823149681,\n",
       " -0.041517239063978195,\n",
       " -0.017344363033771515,\n",
       " 0.015679916366934776,\n",
       " -0.02674562856554985,\n",
       " 0.001485558575950563,\n",
       " 0.0318279042840004,\n",
       " 0.02614421956241131,\n",
       " 0.04225114360451698,\n",
       " 0.047056496143341064,\n",
       " -0.009185654111206532,\n",
       " 0.014697705395519733,\n",
       " -0.028918541967868805,\n",
       " -0.022175176069140434,\n",
       " 0.029552334919571877,\n",
       " 0.01747729629278183,\n",
       " 0.003912638407200575,\n",
       " 0.006806198973208666,\n",
       " 0.06565005332231522,\n",
       " 0.004162088967859745,\n",
       " -0.05584929510951042,\n",
       " 0.03834104165434837,\n",
       " -0.01577845588326454,\n",
       " -0.019482634961605072,\n",
       " -0.03194560110569,\n",
       " 0.007903901860117912,\n",
       " -0.0230258796364069,\n",
       " -0.04274030774831772,\n",
       " 0.020106665790081024,\n",
       " -0.009655416011810303,\n",
       " 0.03191673010587692,\n",
       " 0.007127545308321714,\n",
       " -0.08608116209506989,\n",
       " 0.026022545993328094,\n",
       " 0.1339031606912613,\n",
       " -0.0011585961328819394,\n",
       " -0.0530802346765995,\n",
       " -0.05308324471116066,\n",
       " 0.032550714910030365,\n",
       " -0.011021940037608147,\n",
       " 0.0313241071999073,\n",
       " 0.057604484260082245,\n",
       " -0.010970545932650566,\n",
       " 0.05374943092465401,\n",
       " -0.016338258981704712,\n",
       " -0.01848195679485798,\n",
       " -0.0033741972874850035,\n",
       " 0.012532457709312439,\n",
       " 0.06394381076097488,\n",
       " -0.027582665905356407,\n",
       " 0.05544936656951904,\n",
       " -0.00035262139863334596,\n",
       " -0.06560198962688446,\n",
       " 0.06059209629893303,\n",
       " -0.011827911250293255,\n",
       " -0.0165623240172863,\n",
       " 0.01975366473197937,\n",
       " -0.005960837937891483,\n",
       " 0.06992398947477341,\n",
       " -0.06381261348724365,\n",
       " -0.014804579317569733,\n",
       " -0.03990722820162773,\n",
       " -0.020147114992141724,\n",
       " 0.008339171297848225,\n",
       " -0.019565710797905922,\n",
       " 0.05709376558661461,\n",
       " 0.060055069625377655,\n",
       " -0.042994413524866104,\n",
       " 0.03179080784320831,\n",
       " 0.03155294060707092,\n",
       " 0.019534284248948097,\n",
       " -0.041050974279642105,\n",
       " -0.11706102639436722,\n",
       " 0.008849244564771652,\n",
       " 0.013015593402087688,\n",
       " 0.007568203844130039,\n",
       " 0.00987415574491024,\n",
       " 0.0025081534404307604,\n",
       " 0.026643626391887665,\n",
       " 0.0014612580416724086,\n",
       " 0.011120150797069073,\n",
       " 0.057058773934841156,\n",
       " 0.047248538583517075,\n",
       " -0.0016681907000020146,\n",
       " 0.028095776215195656,\n",
       " -0.005801752209663391,\n",
       " -0.04803059622645378,\n",
       " -0.008768873289227486,\n",
       " -0.004761219024658203,\n",
       " 0.008036620914936066,\n",
       " -0.01973631978034973,\n",
       " 0.012732453644275665,\n",
       " 0.006160127464681864,\n",
       " 0.005326384678483009,\n",
       " -0.022684238851070404,\n",
       " -0.02400932088494301,\n",
       " -0.006701591890305281,\n",
       " 0.024274498224258423,\n",
       " 0.05467252805829048,\n",
       " -0.024012211710214615,\n",
       " -0.005883100442588329,\n",
       " 0.01153343915939331,\n",
       " -0.04300554469227791,\n",
       " -0.05322883650660515,\n",
       " -0.006380599923431873,\n",
       " 0.017621928825974464,\n",
       " 0.008144402876496315,\n",
       " -0.035413455218076706,\n",
       " -0.031227372586727142,\n",
       " -0.04583480954170227,\n",
       " -0.012940819375216961,\n",
       " -0.03128793090581894,\n",
       " 0.007477776147425175,\n",
       " 0.05716332793235779,\n",
       " -0.07709522545337677,\n",
       " 0.004114593844860792,\n",
       " -0.027882864698767662,\n",
       " -0.06412733346223831,\n",
       " -0.000615670345723629,\n",
       " -0.027250709012150764,\n",
       " 0.05749216675758362,\n",
       " -0.005745572037994862,\n",
       " -0.018098104745149612,\n",
       " -0.016184808686375618,\n",
       " -0.0027369551826268435,\n",
       " 0.03534169867634773,\n",
       " 0.06775497645139694,\n",
       " -0.021183812990784645,\n",
       " -0.04157860204577446,\n",
       " -0.019731532782316208,\n",
       " 0.04589731618762016,\n",
       " -0.05853807553648949,\n",
       " -0.009139152243733406,\n",
       " 0.02170700393617153,\n",
       " -0.052465248852968216,\n",
       " -0.009376280941069126,\n",
       " -0.01780177839100361,\n",
       " 0.05501735955476761,\n",
       " -0.024126091971993446,\n",
       " 0.008293488062918186,\n",
       " 0.017453158274292946,\n",
       " 0.022182557731866837,\n",
       " -0.03910154476761818,\n",
       " -0.043107446283102036,\n",
       " -0.03383034095168114,\n",
       " -0.031267184764146805,\n",
       " 0.03063974902033806,\n",
       " -0.01662657968699932,\n",
       " 0.04475060850381851,\n",
       " -0.04041456803679466,\n",
       " -0.014310951344668865,\n",
       " -0.0278644859790802,\n",
       " 0.03274661675095558,\n",
       " 0.06731341779232025,\n",
       " -0.02571776695549488,\n",
       " -0.006923190318048,\n",
       " 0.013131773099303246,\n",
       " -0.017042316496372223,\n",
       " 0.03316222131252289,\n",
       " -0.002891708165407181,\n",
       " 0.020281320437788963,\n",
       " 0.03968853875994682,\n",
       " 0.00625721225515008,\n",
       " -0.010825035162270069,\n",
       " 0.006180709693580866,\n",
       " 0.0071946256794035435,\n",
       " 0.004917864687740803,\n",
       " 0.003027583472430706,\n",
       " 0.03163759037852287,\n",
       " -0.040985189378261566,\n",
       " -0.014284749515354633,\n",
       " 0.05242716521024704,\n",
       " 0.0006875880644656718,\n",
       " 0.06504058092832565,\n",
       " 0.01635471172630787,\n",
       " -0.024875445291399956,\n",
       " -0.03691869229078293,\n",
       " -0.04229496419429779,\n",
       " -0.0089530348777771,\n",
       " -0.03766127675771713,\n",
       " 0.0016468256944790483,\n",
       " -0.025998452678322792,\n",
       " -0.025060221552848816,\n",
       " 0.0034847038332372904,\n",
       " 0.0352935791015625,\n",
       " 0.026821864768862724,\n",
       " 0.004233209881931543,\n",
       " -0.03792862966656685,\n",
       " 0.05108807608485222,\n",
       " 0.015066230669617653,\n",
       " 0.012105036526918411,\n",
       " 0.017344430088996887,\n",
       " 0.012617945671081543,\n",
       " 0.0021697301417589188,\n",
       " 0.01186219509691,\n",
       " -0.0059104617685079575,\n",
       " -0.023338153958320618,\n",
       " -0.007024768274277449,\n",
       " -0.0369267538189888,\n",
       " -0.003459362080320716,\n",
       " 0.016058199107646942,\n",
       " 0.0008769846172071993,\n",
       " -0.03879130631685257,\n",
       " 0.020553164184093475,\n",
       " -0.009858747012913227,\n",
       " 0.010990182869136333,\n",
       " -0.02603696472942829,\n",
       " 0.038413166999816895,\n",
       " -0.006242717150598764,\n",
       " -0.047182999551296234,\n",
       " 0.002167238388210535,\n",
       " 0.0007664848817512393,\n",
       " 0.030096163973212242,\n",
       " 0.0005500813131220639,\n",
       " -0.04316263273358345,\n",
       " 0.0456886850297451,\n",
       " -0.028903622180223465,\n",
       " -0.01752062700688839,\n",
       " 0.015730058774352074,\n",
       " -0.034319084137678146,\n",
       " -0.012129643931984901,\n",
       " 0.033599983900785446,\n",
       " -0.01834498904645443,\n",
       " -0.021257968619465828,\n",
       " -0.049081455916166306,\n",
       " -0.03767600655555725,\n",
       " 0.014253954403102398,\n",
       " -0.061813853681087494,\n",
       " 0.08358247578144073,\n",
       " 0.003425163682550192,\n",
       " 0.01712575927376747,\n",
       " -0.001232582377269864,\n",
       " 0.004825744312256575,\n",
       " 0.03963079676032066,\n",
       " -0.036499422043561935,\n",
       " 0.018658151850104332,\n",
       " -0.012453199364244938,\n",
       " -0.004139934666454792,\n",
       " 0.042820509523153305,\n",
       " 0.04002423211932182,\n",
       " -0.007834350690245628,\n",
       " -0.030159708112478256,\n",
       " 0.028998130932450294,\n",
       " 0.005410049110651016,\n",
       " 0.033045411109924316,\n",
       " 0.04838111996650696,\n",
       " 0.018326878547668457,\n",
       " 0.04226330295205116,\n",
       " -0.006111724767833948,\n",
       " -0.0025107187684625387,\n",
       " 0.016921356320381165,\n",
       " 0.020137162879109383,\n",
       " -0.004046786576509476,\n",
       " 0.011885411106050014,\n",
       " 0.03635015711188316,\n",
       " -0.005624019540846348,\n",
       " 0.008302235044538975,\n",
       " 0.013773885555565357,\n",
       " -0.051249898970127106,\n",
       " -0.03212270513176918,\n",
       " 0.004041646607220173,\n",
       " 0.037317197769880295,\n",
       " 0.05264381691813469,\n",
       " -0.042057912796735764,\n",
       " -0.0037119812332093716,\n",
       " -0.011160952039062977,\n",
       " 0.02476855367422104,\n",
       " -0.06324304640293121,\n",
       " 0.00037970629637129605,\n",
       " 0.0174249354749918,\n",
       " -0.06272541731595993,\n",
       " -0.036343783140182495,\n",
       " -0.012167626991868019,\n",
       " -0.029374096542596817,\n",
       " -0.026620352640748024,\n",
       " 0.02349906973540783,\n",
       " 0.03518957272171974,\n",
       " 0.0026963441632688046,\n",
       " 0.009675242006778717,\n",
       " -0.00625256821513176,\n",
       " -0.04331023991107941,\n",
       " -0.004988901782780886,\n",
       " 0.01539397332817316,\n",
       " 0.015303296037018299,\n",
       " 0.06048548221588135,\n",
       " -0.04999183490872383,\n",
       " 0.019542759284377098,\n",
       " -0.00037160710780881345,\n",
       " 0.04757065325975418,\n",
       " -0.05055006593465805,\n",
       " 0.05408957973122597,\n",
       " -0.013242450542747974,\n",
       " 0.008464307524263859,\n",
       " -0.07528769969940186,\n",
       " 0.0157812237739563,\n",
       " 0.02596300095319748,\n",
       " 0.016764655709266663,\n",
       " -0.03978261724114418,\n",
       " -0.013123291544616222,\n",
       " 0.038687124848365784,\n",
       " -0.045482441782951355,\n",
       " -0.004234687425196171,\n",
       " 0.021085472777485847,\n",
       " 0.052224449813365936,\n",
       " -0.011141783557832241,\n",
       " 0.006924911867827177,\n",
       " 0.023588016629219055,\n",
       " 0.016300886869430542,\n",
       " -0.04134253412485123,\n",
       " 0.07960303872823715,\n",
       " -0.05888931825757027,\n",
       " 0.0006363618304021657,\n",
       " -0.012833585031330585,\n",
       " -0.013195564970374107,\n",
       " 0.03246204927563667,\n",
       " -0.0074762520380318165,\n",
       " -0.02294331043958664,\n",
       " 0.006596496794372797,\n",
       " 0.037827759981155396,\n",
       " -0.03412270545959473,\n",
       " 0.040589042007923126,\n",
       " 0.004945470951497555,\n",
       " 0.0344085618853569,\n",
       " 0.05217869207262993,\n",
       " -0.00025850144447758794,\n",
       " -0.059129130095243454,\n",
       " -0.004370836075395346,\n",
       " 0.019449220970273018,\n",
       " -0.016833005473017693,\n",
       " 0.037308018654584885,\n",
       " -0.030546780675649643,\n",
       " 0.04377632588148117,\n",
       " -0.02938237227499485,\n",
       " 0.01852654293179512,\n",
       " 0.002378083998337388,\n",
       " -0.02821940928697586,\n",
       " -0.05026372894644737,\n",
       " -0.04076310247182846,\n",
       " -0.04583783447742462,\n",
       " 0.044339824467897415,\n",
       " -0.010217810049653053,\n",
       " 0.005508992355316877,\n",
       " 0.01965806633234024,\n",
       " 0.007635226473212242,\n",
       " -0.03206762671470642,\n",
       " -0.025417838245630264,\n",
       " 0.03094911202788353,\n",
       " -0.0004322640597820282,\n",
       " 0.056635480374097824,\n",
       " 0.01943098194897175,\n",
       " -0.038275256752967834]"
      ]
     },
     "execution_count": 234,
     "metadata": {},
     "output_type": "execute_result"
    }
   ],
   "source": [
    "embeddings.embed_query(\"Hi my name is devi\")"
   ]
  },
  {
   "cell_type": "code",
   "execution_count": null,
   "metadata": {},
   "outputs": [
    {
     "data": {
      "text/plain": [
       "'LangChain is the framework for building context-aware reasoning applications'"
      ]
     },
     "execution_count": 235,
     "metadata": {},
     "output_type": "execute_result"
    }
   ],
   "source": [
    "# Create a vector store with a sample text\n",
    "from langchain_core.vectorstores import InMemoryVectorStore\n",
    "\n",
    "text = \"LangChain is the framework for building context-aware reasoning applications\"\n",
    "\n",
    "vectorstore = InMemoryVectorStore.from_texts(\n",
    "    [text],\n",
    "    embedding=embeddings,\n",
    ")\n",
    "\n",
    "# Use the vectorstore as a retriever\n",
    "retriever = vectorstore.as_retriever()\n",
    "\n",
    "# Retrieve the most similar text\n",
    "retrieved_documents = retriever.invoke(\"What is LangChain?\")\n",
    "\n",
    "# show the retrieved document's content\n",
    "retrieved_documents[0].page_content"
   ]
  },
  {
   "cell_type": "markdown",
   "metadata": {},
   "source": [
    "# vector DB"
   ]
  },
  {
   "cell_type": "code",
   "execution_count": null,
   "metadata": {},
   "outputs": [],
   "source": [
    "from qdrant_client import QdrantClient\n",
    "from langchain_qdrant import QdrantVectorStore\n",
    "from qdrant_client.http.models import VectorParams, Distance"
   ]
  },
  {
   "cell_type": "code",
   "execution_count": null,
   "metadata": {},
   "outputs": [],
   "source": [
    "del os.environ[\"QDRANT_MYRAG_API\"]"
   ]
  },
  {
   "cell_type": "code",
   "execution_count": null,
   "metadata": {},
   "outputs": [],
   "source": [
    "os.environ.get(\"QDRANT_MYRAG_API\")"
   ]
  },
  {
   "cell_type": "code",
   "execution_count": null,
   "metadata": {},
   "outputs": [
    {
     "name": "stdout",
     "output_type": "stream",
     "text": [
      "collections=[]\n"
     ]
    }
   ],
   "source": [
    "qdrant_client = QdrantClient(\n",
    "    url=\"https://dd22169f-0c45-4259-8909-8dcf31aead3e.us-east4-0.gcp.cloud.qdrant.io:6333\", \n",
    "    api_key=\"SY1sJVZJ0ABQX0fh1W5JHDLkY1fSV4187D1-eaEqolASRORXw6O6nA\"\n",
    ")\n"
   ]
  },
  {
   "cell_type": "code",
   "execution_count": null,
   "metadata": {},
   "outputs": [
    {
     "data": {
      "text/plain": [
       "True"
      ]
     },
     "execution_count": 256,
     "metadata": {},
     "output_type": "execute_result"
    }
   ],
   "source": [
    "qdrant_client.create_collection(\n",
    "    collection_name=\"my_rag_col\",\n",
    "    vectors_config=VectorParams(size=768, distance=Distance.COSINE)\n",
    ")"
   ]
  },
  {
   "cell_type": "code",
   "execution_count": null,
   "metadata": {},
   "outputs": [
    {
     "data": {
      "text/plain": [
       "True"
      ]
     },
     "execution_count": 337,
     "metadata": {},
     "output_type": "execute_result"
    }
   ],
   "source": [
    "qdrant_client.create_collection(\n",
    "    collection_name=\"my_rag_user_train\",\n",
    "    vectors_config=VectorParams(size=768, distance=Distance.COSINE)\n",
    ")"
   ]
  },
  {
   "cell_type": "code",
   "execution_count": null,
   "metadata": {},
   "outputs": [
    {
     "name": "stdout",
     "output_type": "stream",
     "text": [
      "collections=[CollectionDescription(name='my_rag_col')]\n"
     ]
    }
   ],
   "source": [
    "print(qdrant_client.get_collections())"
   ]
  },
  {
   "cell_type": "code",
   "execution_count": null,
   "metadata": {},
   "outputs": [
    {
     "data": {
      "text/plain": [
       "True"
      ]
     },
     "execution_count": 253,
     "metadata": {},
     "output_type": "execute_result"
    }
   ],
   "source": [
    "qdrant_client.delete_collection(collection_name=\"my_rag_col\")"
   ]
  },
  {
   "cell_type": "code",
   "execution_count": null,
   "metadata": {},
   "outputs": [],
   "source": [
    "vector_store = QdrantVectorStore(\n",
    "    client=qdrant_client,\n",
    "    collection_name=\"my_rag_col\",\n",
    "    embedding=embeddings,\n",
    ")"
   ]
  },
  {
   "cell_type": "code",
   "execution_count": null,
   "metadata": {},
   "outputs": [],
   "source": [
    "vector_store_user_train = QdrantVectorStore(\n",
    "    client=qdrant_client,\n",
    "    collection_name=\"my_rag_user_train\",\n",
    "    embedding=embeddings,\n",
    ")\n"
   ]
  },
  {
   "cell_type": "code",
   "execution_count": null,
   "metadata": {},
   "outputs": [
    {
     "data": {
      "text/plain": [
       "['ce6fc1ddd2164f3084b37bac6d536df3',\n",
       " '2a9fa638847f4801bc7f88f6ce2ff174',\n",
       " '012d69021d6941448909ba0a37d10069',\n",
       " '49b4114e7f7e4568af2c9277c6c613d8',\n",
       " 'd1f4f239382c4004b785c8519fd62aa4',\n",
       " 'cf1411ba3b144dad9b95f89d3c2dcff7',\n",
       " '1503429e69c046dd84c7a19b9711c8ed',\n",
       " 'f56786d40c064ffe8c11657002e57bf8',\n",
       " '4ee6fbcdf09e46589dfaed5ba71deab9',\n",
       " '3e418d944a9c4512b2c97528568950a1',\n",
       " 'b984156b362c4683a0b5618b0b94b683',\n",
       " '094c4b0c0dba458cbb29599fa5fa99c6',\n",
       " 'c61d086afcab42e794df51425621b1d1',\n",
       " '400066806f1345689a46ff144ab34291',\n",
       " '618d97e042924955ba2c2555a1a5a5e9',\n",
       " '7c4c17d698d24038846beb039eb13d55',\n",
       " 'a41d5c2ac96b47f3a20ecab6df5f4544']"
      ]
     },
     "execution_count": 341,
     "metadata": {},
     "output_type": "execute_result"
    }
   ],
   "source": [
    "vector_store_user_train.add_documents(chuncks)"
   ]
  },
  {
   "cell_type": "code",
   "execution_count": null,
   "metadata": {},
   "outputs": [
    {
     "data": {
      "text/plain": [
       "['b15d24786e3749c1ac951dd9b47d5d27',\n",
       " 'c6ed83de6f8b4d0fba446ffd63712896',\n",
       " 'a067a9e7f2aa428e8c8dd50825686951',\n",
       " '9728a769b902494a8f9e58f881702d9c',\n",
       " '39a79221c5bf4ceda04f8ffcd60bb592',\n",
       " '280b3cac97bd4fd29c85802db23947f7',\n",
       " 'ce92989420324f409009926e4b518e55',\n",
       " 'd98fd44e3e7e4a2c9e4234d0d345553b',\n",
       " 'd33f84fa17ee4df6bc4dd9eaf2d565e0',\n",
       " '7e0b7c89f0ea412fa5daa2fa31ffbc5b',\n",
       " '099bed5e66734d1ca8300911b405ee32',\n",
       " '6d81cb0ae96a4107bef45bab41c472ae',\n",
       " 'f0ca7018fe0c4990ba81a27cd1db47a0',\n",
       " 'e6ecf28fd3674a939dfb97ddae80e9e1',\n",
       " '28dab5c6a5e24d1d9abee0612db9d2f5',\n",
       " '6d76e44b49774afc891b40cb21224612',\n",
       " 'b2d9076ecb334041bc661606908c7d8a']"
      ]
     },
     "execution_count": 261,
     "metadata": {},
     "output_type": "execute_result"
    }
   ],
   "source": [
    "vector_store.add_documents(chuncks)"
   ]
  },
  {
   "cell_type": "code",
   "execution_count": null,
   "metadata": {},
   "outputs": [
    {
     "data": {
      "text/plain": [
       "[Document(metadata={'name': 'Devi Sri Ranga Prasad Gudimetla', 'index': 'Output: \"other\"'}, page_content='G.Devi Sri Ranga Prasad \\nLinkedin: g-devi-sri-ranga-prasad                                                                                        Email: devisrprasad948@gmail.com'),\n",
       " Document(metadata={'name': 'Devi Sri Ranga Prasad Gudimetla', 'index': '\"skills\"'}, page_content='GitHub:-  https://github.com/dspStudent                                                            Mobile:  +91-7032857480 \\nSKILLS SUMMARY \\n• Languages: C++, C, Core Java, Python, R , kotlin \\n• Technologies: HTML , CSS, Java Script, Java Spring Boot, Spring Security 6'),\n",
       " Document(metadata={'name': 'Devi Sri Ranga Prasad Gudimetla', 'index': 'Based on the provided text, the content category is \"skills\". This is because the text mainly discusses the tools, platforms, and programming languages that the person is familiar with, which are indicative of their skills.'}, page_content='• Tools/Platforms: MySQL, MongoDB \\n• Data Analysis:          Excel, Tabuleo  \\nINTERNSHIP  \\n• R Programing language:                                                                                                                             June 2023'),\n",
       " Document(metadata={'name': 'Devi Sri Ranga Prasad Gudimetla', 'index': '\"projects\"'}, page_content='PROJECTS \\n• Anime List Backend Api:'),\n",
       " Document(metadata={'name': 'Devi Sri Ranga Prasad Gudimetla', 'index': '\"other\"'}, page_content='• Api Link :- https://naa-anime-list-backend-api.onrender.com/login                                         \\n• Users can keep track of the anime they have watched'),\n",
       " Document(metadata={'name': 'Devi Sri Ranga Prasad Gudimetla', 'index': '\"skills\"'}, page_content='• The security is robust because it contains OAuth 2.0 and JWT token verification.  And also The Animes Collection has 14k+ \\nrecords   \\n• Developed proficiently in Spring Boot Security 6, with APIs and MongoDB as well. \\n• Rock paper scissor game:'),\n",
       " Document(metadata={'name': 'Devi Sri Ranga Prasad Gudimetla', 'index': '\"skills, experiences\"'}, page_content='• AI-based project where the player competes against the computer.                                                             Jul 2023 \\n• Utilizes OpenCV and Media Pipe for hand gesture recognition.'),\n",
       " Document(metadata={'name': 'Devi Sri Ranga Prasad Gudimetla', 'index': '\"skills, experiences\"'}, page_content='• Developed proficiency in Python and learned to implement computer vision and machine learning techniques. \\n• Airbnb data analysis: \\n• Conducted a comprehensive analysis of Airbnb pricing patterns to understand market dynamics.      Jun 2023'),\n",
       " Document(metadata={'name': 'Devi Sri Ranga Prasad Gudimetla', 'index': '\"skills, experiences\"'}, page_content='• Developed a predictive model capable of estimating Airbnb rental prices.  \\n• Enhanced data analytics skills, particularly in R programming, and gained insights into the factors influencing \\naccommodation pricing.  \\nACHIEVEMENTS'),\n",
       " Document(metadata={'name': 'Devi Sri Ranga Prasad Gudimetla', 'index': '\"skills\"'}, page_content='ACHIEVEMENTS  \\n• Solved 370+ Questions in LeetCode , 100+ Streak in LeetCode and GFG, CodeCheff Max Rating 1503,  GFG Max Rating 1780, \\nLeetCode Max Rating 1489 \\nCERTIFICATES \\n• R programing || Board infinity Jul 2023 \\n \\n• Java ||Hacker Rank  Feb 2022 \\n \\n• Python || Coursera   Nov 2022'),\n",
       " Document(metadata={'name': 'Devi Sri Ranga Prasad Gudimetla', 'index': '\"experiences\"'}, page_content='• C, C++ || Coursera Dec 2021 \\nEDUCATION \\nLovely Professional  University                                                               Phagwara, IN'),\n",
       " Document(metadata={'name': 'Devi Sri Ranga Prasad Gudimetla', 'index': '\"experiences\"'}, page_content='B.Tech. in Computer Science 76%                                                                                                                             2021-2025'),\n",
       " Document(metadata={'name': 'Devi Sri Ranga Prasad Gudimetla', 'index': '\"other\"'}, page_content='Narayana Junior College                                                                                                                                Andhra Pradesh, IN'),\n",
       " Document(metadata={'name': 'Devi Sri Ranga Prasad Gudimetla', 'index': '\"other\"'}, page_content='Intermediate 96.5%                                                                                                                                                    2019-2021'),\n",
       " Document(metadata={'name': 'Devi Sri Ranga Prasad Gudimetla', 'index': '\"skills\"'}, page_content='Narayana High School                                                                                                                                      Andhra Pradesh, IN   \\n     10th class 95% \\n      \\n• Embarked on a steep learning curve to master R programming and data analysis techniques.'),\n",
       " Document(metadata={'name': 'Devi Sri Ranga Prasad Gudimetla', 'index': '\"skills, experiences\"'}, page_content='• Overcame initial challenges through dedicated study and hands -on practice with real datasets.  \\n• Transitioned from finding data analysis challenging to enjoying the intricacies of data interpretation and model creation.'),\n",
       " Document(metadata={'name': 'Devi Sri Ranga Prasad Gudimetla', 'index': '\"skills, behaviors\"'}, page_content='• Applied newly acquired R programming skills to contribute meaningfully to a project, demonstrating the ability to learn  \\n• and apply new technologies effectively.     \\n \\n2018-2019')]"
      ]
     },
     "execution_count": 260,
     "metadata": {},
     "output_type": "execute_result"
    }
   ],
   "source": [
    "chuncks"
   ]
  },
  {
   "cell_type": "code",
   "execution_count": null,
   "metadata": {},
   "outputs": [
    {
     "data": {
      "text/plain": [
       "[Document(metadata={'name': 'Devi Sri Ranga Prasad Gudimetla', 'index': '\"other\"', '_id': 'f0ca7018-fe0c-4990-ba81-a27cd1db47a0', '_collection_name': 'my_rag_col'}, page_content='Narayana Junior College                                                                                                                                Andhra Pradesh, IN')]"
      ]
     },
     "execution_count": 264,
     "metadata": {},
     "output_type": "execute_result"
    }
   ],
   "source": [
    "vector_store.similarity_search(\"which school he studeid\", k=1)"
   ]
  },
  {
   "cell_type": "code",
   "execution_count": null,
   "metadata": {},
   "outputs": [
    {
     "data": {
      "text/plain": [
       "[Document(metadata={'name': 'Devi Sri Ranga Prasad Gudimetla', 'index': '\"other\"', '_id': 'c61d086a-fcab-42e7-94df-51425621b1d1', '_collection_name': 'my_rag_user_train'}, page_content='Narayana Junior College                                                                                                                                Andhra Pradesh, IN')]"
      ]
     },
     "execution_count": 342,
     "metadata": {},
     "output_type": "execute_result"
    }
   ],
   "source": [
    "vector_store_user_train.similarity_search(\"which school he studeid\", k=1)"
   ]
  },
  {
   "cell_type": "markdown",
   "metadata": {},
   "source": [
    "# Rag"
   ]
  },
  {
   "cell_type": "code",
   "execution_count": null,
   "metadata": {},
   "outputs": [],
   "source": [
    "user_prompt_template=\"\"\" Based on the following context, answer the user's question exactly. Do not provide any extra or irrelevant information and also correct the grammer when you give output also don't mention based on doucmunet. Context: {context} Question: {user_prompt} Answer: \"\"\""
   ]
  },
  {
   "cell_type": "code",
   "execution_count": null,
   "metadata": {},
   "outputs": [],
   "source": [
    "prompt=ChatPromptTemplate.from_template(user_prompt_template)"
   ]
  },
  {
   "cell_type": "code",
   "execution_count": null,
   "metadata": {},
   "outputs": [],
   "source": [
    "rag_chain=prompt|llm"
   ]
  },
  {
   "cell_type": "code",
   "execution_count": null,
   "metadata": {},
   "outputs": [],
   "source": [
    "def user_prompt_fun(rag_chain, user_prompt, vector_store):\n",
    "    retrival_data=vector_store.similarity_search(user_prompt)\n",
    "    print(rag_chain.invoke({\"context\":retrival_data, \"user_prompt\":user_prompt}).content)"
   ]
  },
  {
   "cell_type": "code",
   "execution_count": null,
   "metadata": {},
   "outputs": [],
   "source": [
    "input=\"who is devi's best frnd\""
   ]
  },
  {
   "cell_type": "code",
   "execution_count": null,
   "metadata": {},
   "outputs": [
    {
     "name": "stdout",
     "output_type": "stream",
     "text": [
      "Based on the available documents, there is no specific information about who Devi's best friend is. The documents mention \"Devi Sri Ranga Prasad\" and \"7 frnds in his beteck,\" but they do not provide the names of those friends or indicate who might be considered the best friend.\n"
     ]
    }
   ],
   "source": [
    "user_prompt_fun(rag_chain=rag_chain, user_prompt=input, vector_store=vector_store)"
   ]
  },
  {
   "cell_type": "markdown",
   "metadata": {},
   "source": [
    "# Fine tunning"
   ]
  },
  {
   "cell_type": "code",
   "execution_count": null,
   "metadata": {},
   "outputs": [
    {
     "name": "stdout",
     "output_type": "stream",
     "text": [
      "SY1sJVZJ0ABQX0fh1W5JHDLkY1fSV4187D1-eaEqolASRORXw6O6nA\n"
     ]
    }
   ],
   "source": [
    "print(os.environ.get(\"QDRANT_MYRAG_API\"))"
   ]
  },
  {
   "cell_type": "code",
   "execution_count": null,
   "metadata": {},
   "outputs": [],
   "source": [
    "def fine_tunning_rag(user_input, vector_store):\n",
    "    meta_data_from_user=get_meta_data(user_prompt=user_input)\n",
    "    this_chunks=[]\n",
    "    for this_chunk in text_split.split_text(user_input):\n",
    "        this_chunks.append(\n",
    "            Document(\n",
    "                page_content=user_input,\n",
    "                metadata={\n",
    "                    \"name\":\"Devi Sri Ranga Prasad\",\n",
    "                    \"index\":meta_data_from_user\n",
    "                }\n",
    "            )\n",
    "        )\n",
    "    vector_store.add_documents(this_chunks)\n",
    "    print(\"fine tunning done\")\n"
   ]
  },
  {
   "cell_type": "code",
   "execution_count": null,
   "metadata": {},
   "outputs": [],
   "source": [
    "user_input=\"devi's 7 frnds from betck are sai kiran , gnana prakash, sai sudakar, ravi teja, vinay, varshit, and shekar but shekar is not with us and lost connection with our gang\""
   ]
  },
  {
   "cell_type": "code",
   "execution_count": null,
   "metadata": {},
   "outputs": [
    {
     "name": "stdout",
     "output_type": "stream",
     "text": [
      "fine tunning done\n"
     ]
    }
   ],
   "source": [
    "fine_tunning_rag(user_input=user_input, vector_store=vector_store)"
   ]
  },
  {
   "cell_type": "markdown",
   "metadata": {},
   "source": [
    "# testing vector db"
   ]
  },
  {
   "cell_type": "code",
   "execution_count": null,
   "metadata": {},
   "outputs": [
    {
     "data": {
      "text/plain": [
       "[Document(metadata={'name': 'Devi Sri Ranga Prasad Gudimetla', 'index': 'Based on the provided text, the content category is \"skills\". This is because the text mainly discusses the tools, platforms, and programming languages that the person is familiar with, which are indicative of their skills.', '_id': 'a067a9e7-f2aa-428e-8c8d-d50825686951', '_collection_name': 'my_rag_col'}, page_content='• Tools/Platforms: MySQL, MongoDB \\n• Data Analysis:          Excel, Tabuleo  \\nINTERNSHIP  \\n• R Programing language:                                                                                                                             June 2023')]"
      ]
     },
     "execution_count": 307,
     "metadata": {},
     "output_type": "execute_result"
    }
   ],
   "source": [
    "vector_store.similarity_search(\"how many frinds devi has and tell abot them\", k=1)"
   ]
  }
 ],
 "metadata": {
  "kernelspec": {
   "display_name": ".venv",
   "language": "python",
   "name": "python3"
  },
  "language_info": {
   "codemirror_mode": {
    "name": "ipython",
    "version": 3
   },
   "file_extension": ".py",
   "mimetype": "text/x-python",
   "name": "python",
   "nbconvert_exporter": "python",
   "pygments_lexer": "ipython3",
   "version": "3.12.5"
  }
 },
 "nbformat": 4,
 "nbformat_minor": 2
}
